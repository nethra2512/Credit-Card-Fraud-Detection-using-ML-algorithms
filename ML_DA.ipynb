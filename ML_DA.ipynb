{
  "cells": [
    {
      "cell_type": "code",
      "execution_count": null,
      "metadata": {
        "colab": {
          "base_uri": "https://localhost:8080/"
        },
        "id": "KIn0L_BZMYoG",
        "outputId": "c2337b5c-357b-400c-fca0-2c21dd9e201c"
      },
      "outputs": [
        {
          "output_type": "stream",
          "name": "stdout",
          "text": [
            "   Time        V1        V2        V3        V4        V5        V6        V7  \\\n",
            "0   0.0 -1.359807 -0.072781  2.536347  1.378155 -0.338321  0.462388  0.239599   \n",
            "1   0.0  1.191857  0.266151  0.166480  0.448154  0.060018 -0.082361 -0.078803   \n",
            "2   1.0 -1.358354 -1.340163  1.773209  0.379780 -0.503198  1.800499  0.791461   \n",
            "3   1.0 -0.966272 -0.185226  1.792993 -0.863291 -0.010309  1.247203  0.237609   \n",
            "4   2.0 -1.158233  0.877737  1.548718  0.403034 -0.407193  0.095921  0.592941   \n",
            "\n",
            "         V8        V9  ...       V21       V22       V23       V24       V25  \\\n",
            "0  0.098698  0.363787  ... -0.018307  0.277838 -0.110474  0.066928  0.128539   \n",
            "1  0.085102 -0.255425  ... -0.225775 -0.638672  0.101288 -0.339846  0.167170   \n",
            "2  0.247676 -1.514654  ...  0.247998  0.771679  0.909412 -0.689281 -0.327642   \n",
            "3  0.377436 -1.387024  ... -0.108300  0.005274 -0.190321 -1.175575  0.647376   \n",
            "4 -0.270533  0.817739  ... -0.009431  0.798278 -0.137458  0.141267 -0.206010   \n",
            "\n",
            "        V26       V27       V28  Amount  Class  \n",
            "0 -0.189115  0.133558 -0.021053  149.62      0  \n",
            "1  0.125895 -0.008983  0.014724    2.69      0  \n",
            "2 -0.139097 -0.055353 -0.059752  378.66      0  \n",
            "3 -0.221929  0.062723  0.061458  123.50      0  \n",
            "4  0.502292  0.219422  0.215153   69.99      0  \n",
            "\n",
            "[5 rows x 31 columns]\n",
            "            Time         V1         V2        V3        V4        V5  \\\n",
            "284802  172786.0 -11.881118  10.071785 -9.834783 -2.066656 -5.364473   \n",
            "284803  172787.0  -0.732789  -0.055080  2.035030 -0.738589  0.868229   \n",
            "284804  172788.0   1.919565  -0.301254 -3.249640 -0.557828  2.630515   \n",
            "284805  172788.0  -0.240440   0.530483  0.702510  0.689799 -0.377961   \n",
            "284806  172792.0  -0.533413  -0.189733  0.703337 -0.506271 -0.012546   \n",
            "\n",
            "              V6        V7        V8        V9  ...       V21       V22  \\\n",
            "284802 -2.606837 -4.918215  7.305334  1.914428  ...  0.213454  0.111864   \n",
            "284803  1.058415  0.024330  0.294869  0.584800  ...  0.214205  0.924384   \n",
            "284804  3.031260 -0.296827  0.708417  0.432454  ...  0.232045  0.578229   \n",
            "284805  0.623708 -0.686180  0.679145  0.392087  ...  0.265245  0.800049   \n",
            "284806 -0.649617  1.577006 -0.414650  0.486180  ...  0.261057  0.643078   \n",
            "\n",
            "             V23       V24       V25       V26       V27       V28  Amount  \\\n",
            "284802  1.014480 -0.509348  1.436807  0.250034  0.943651  0.823731    0.77   \n",
            "284803  0.012463 -1.016226 -0.606624 -0.395255  0.068472 -0.053527   24.79   \n",
            "284804 -0.037501  0.640134  0.265745 -0.087371  0.004455 -0.026561   67.88   \n",
            "284805 -0.163298  0.123205 -0.569159  0.546668  0.108821  0.104533   10.00   \n",
            "284806  0.376777  0.008797 -0.473649 -0.818267 -0.002415  0.013649  217.00   \n",
            "\n",
            "        Class  \n",
            "284802      0  \n",
            "284803      0  \n",
            "284804      0  \n",
            "284805      0  \n",
            "284806      0  \n",
            "\n",
            "[5 rows x 31 columns]\n"
          ]
        }
      ],
      "source": [
        "import numpy as np\n",
        "import pandas as pd\n",
        "from sklearn.model_selection import train_test_split\n",
        "from sklearn.metrics import accuracy_score, precision_score, recall_score, f1_score, confusion_matrix\n",
        "from sklearn.linear_model import LogisticRegression\n",
        "\n",
        "# Load the dataset\n",
        "credit_card_data = pd.read_csv('/content/creditcard.csv')\n",
        "\n",
        "print(credit_card_data.head())\n",
        "# Display the last few rows of the dataset\n",
        "print(credit_card_data.tail())"
      ]
    },
    {
      "cell_type": "code",
      "execution_count": null,
      "metadata": {
        "colab": {
          "base_uri": "https://localhost:8080/"
        },
        "id": "G5yeNbu4PVLq",
        "outputId": "67eaa175-d138-44ff-b9ec-029436d7dded"
      },
      "outputs": [
        {
          "output_type": "stream",
          "name": "stdout",
          "text": [
            "<class 'pandas.core.frame.DataFrame'>\n",
            "RangeIndex: 284807 entries, 0 to 284806\n",
            "Data columns (total 31 columns):\n",
            " #   Column  Non-Null Count   Dtype  \n",
            "---  ------  --------------   -----  \n",
            " 0   Time    284807 non-null  float64\n",
            " 1   V1      284807 non-null  float64\n",
            " 2   V2      284807 non-null  float64\n",
            " 3   V3      284807 non-null  float64\n",
            " 4   V4      284807 non-null  float64\n",
            " 5   V5      284807 non-null  float64\n",
            " 6   V6      284807 non-null  float64\n",
            " 7   V7      284807 non-null  float64\n",
            " 8   V8      284807 non-null  float64\n",
            " 9   V9      284807 non-null  float64\n",
            " 10  V10     284807 non-null  float64\n",
            " 11  V11     284807 non-null  float64\n",
            " 12  V12     284807 non-null  float64\n",
            " 13  V13     284807 non-null  float64\n",
            " 14  V14     284807 non-null  float64\n",
            " 15  V15     284807 non-null  float64\n",
            " 16  V16     284807 non-null  float64\n",
            " 17  V17     284807 non-null  float64\n",
            " 18  V18     284807 non-null  float64\n",
            " 19  V19     284807 non-null  float64\n",
            " 20  V20     284807 non-null  float64\n",
            " 21  V21     284807 non-null  float64\n",
            " 22  V22     284807 non-null  float64\n",
            " 23  V23     284807 non-null  float64\n",
            " 24  V24     284807 non-null  float64\n",
            " 25  V25     284807 non-null  float64\n",
            " 26  V26     284807 non-null  float64\n",
            " 27  V27     284807 non-null  float64\n",
            " 28  V28     284807 non-null  float64\n",
            " 29  Amount  284807 non-null  float64\n",
            " 30  Class   284807 non-null  int64  \n",
            "dtypes: float64(30), int64(1)\n",
            "memory usage: 67.4 MB\n"
          ]
        }
      ],
      "source": [
        "# Display information about the dataset\n",
        "credit_card_data.info()"
      ]
    },
    {
      "cell_type": "code",
      "execution_count": null,
      "metadata": {
        "colab": {
          "base_uri": "https://localhost:8080/"
        },
        "id": "RMrO46rqPfMW",
        "outputId": "f983d271-0e0a-4bcf-d0a2-9671180839bb"
      },
      "outputs": [
        {
          "output_type": "stream",
          "name": "stdout",
          "text": [
            "Time      0\n",
            "V1        0\n",
            "V2        0\n",
            "V3        0\n",
            "V4        0\n",
            "V5        0\n",
            "V6        0\n",
            "V7        0\n",
            "V8        0\n",
            "V9        0\n",
            "V10       0\n",
            "V11       0\n",
            "V12       0\n",
            "V13       0\n",
            "V14       0\n",
            "V15       0\n",
            "V16       0\n",
            "V17       0\n",
            "V18       0\n",
            "V19       0\n",
            "V20       0\n",
            "V21       0\n",
            "V22       0\n",
            "V23       0\n",
            "V24       0\n",
            "V25       0\n",
            "V26       0\n",
            "V27       0\n",
            "V28       0\n",
            "Amount    0\n",
            "Class     0\n",
            "dtype: int64\n"
          ]
        }
      ],
      "source": [
        "# Calculate the sum of missing values in each column\n",
        "print(credit_card_data.isnull().sum())\n"
      ]
    },
    {
      "cell_type": "code",
      "execution_count": null,
      "metadata": {
        "colab": {
          "base_uri": "https://localhost:8080/"
        },
        "id": "Tc700CkuPpxa",
        "outputId": "80e70bf5-8c17-4b4a-cf23-53420e1894dc"
      },
      "outputs": [
        {
          "output_type": "stream",
          "name": "stdout",
          "text": [
            "Cleaned dataset:\n",
            "             Time         V1         V2        V3        V4        V5  \\\n",
            "284802  172786.0 -11.881118  10.071785 -9.834783 -2.066656 -5.364473   \n",
            "284803  172787.0  -0.732789  -0.055080  2.035030 -0.738589  0.868229   \n",
            "284804  172788.0   1.919565  -0.301254 -3.249640 -0.557828  2.630515   \n",
            "284805  172788.0  -0.240440   0.530483  0.702510  0.689799 -0.377961   \n",
            "284806  172792.0  -0.533413  -0.189733  0.703337 -0.506271 -0.012546   \n",
            "\n",
            "              V6        V7        V8        V9  ...       V21       V22  \\\n",
            "284802 -2.606837 -4.918215  7.305334  1.914428  ...  0.213454  0.111864   \n",
            "284803  1.058415  0.024330  0.294869  0.584800  ...  0.214205  0.924384   \n",
            "284804  3.031260 -0.296827  0.708417  0.432454  ...  0.232045  0.578229   \n",
            "284805  0.623708 -0.686180  0.679145  0.392087  ...  0.265245  0.800049   \n",
            "284806 -0.649617  1.577006 -0.414650  0.486180  ...  0.261057  0.643078   \n",
            "\n",
            "             V23       V24       V25       V26       V27       V28  Amount  \\\n",
            "284802  1.014480 -0.509348  1.436807  0.250034  0.943651  0.823731    0.77   \n",
            "284803  0.012463 -1.016226 -0.606624 -0.395255  0.068472 -0.053527   24.79   \n",
            "284804 -0.037501  0.640134  0.265745 -0.087371  0.004455 -0.026561   67.88   \n",
            "284805 -0.163298  0.123205 -0.569159  0.546668  0.108821  0.104533   10.00   \n",
            "284806  0.376777  0.008797 -0.473649 -0.818267 -0.002415  0.013649  217.00   \n",
            "\n",
            "        Class  \n",
            "284802      0  \n",
            "284803      0  \n",
            "284804      0  \n",
            "284805      0  \n",
            "284806      0  \n",
            "\n",
            "[5 rows x 31 columns]\n"
          ]
        }
      ],
      "source": [
        "# Fill missing values in the dataset with the mode of each column\n",
        "data = credit_card_data.fillna(credit_card_data.mode().iloc[0])\n",
        "print(\"Cleaned dataset:\\n\", data.tail())\n"
      ]
    },
    {
      "cell_type": "code",
      "execution_count": null,
      "metadata": {
        "colab": {
          "base_uri": "https://localhost:8080/"
        },
        "id": "7wziusuAPtxo",
        "outputId": "e1fd1afb-3c42-442c-e738-80aed4b7f6fa"
      },
      "outputs": [
        {
          "output_type": "stream",
          "name": "stdout",
          "text": [
            "Class\n",
            "0    284315\n",
            "1       492\n",
            "Name: count, dtype: int64\n"
          ]
        }
      ],
      "source": [
        "# Display the count of each class in the dataset\n",
        "print(data['Class'].value_counts())"
      ]
    },
    {
      "cell_type": "markdown",
      "metadata": {
        "id": "v1iQrwxeP-Sq"
      },
      "source": [
        "As we can see , the dataset is highly imbalanced\n",
        "\n",
        "0 - legit transaction\n",
        "1 - fraudulent transaction\n"
      ]
    },
    {
      "cell_type": "markdown",
      "metadata": {
        "id": "IcghjHnePaTS"
      },
      "source": []
    },
    {
      "cell_type": "code",
      "execution_count": null,
      "metadata": {
        "colab": {
          "base_uri": "https://localhost:8080/"
        },
        "id": "nyYLa4wtQQcU",
        "outputId": "9c4fcab5-dadf-4f96-e378-568b46880866"
      },
      "outputs": [
        {
          "output_type": "stream",
          "name": "stdout",
          "text": [
            "(284315, 31)\n",
            "(492, 31)\n"
          ]
        }
      ],
      "source": [
        "# Separate data for analysis\n",
        "legit = data[data.Class == 0.0]\n",
        "fraud = data[data.Class == 1.0]\n",
        "print(legit.shape)\n",
        "print(fraud.shape)"
      ]
    },
    {
      "cell_type": "code",
      "execution_count": null,
      "metadata": {
        "colab": {
          "base_uri": "https://localhost:8080/"
        },
        "id": "uRw9C3B-Qc5E",
        "outputId": "bb75d44a-3b91-4b18-b1ef-d30f4ea48101"
      },
      "outputs": [
        {
          "output_type": "stream",
          "name": "stdout",
          "text": [
            "count    284315.000000\n",
            "mean         88.291022\n",
            "std         250.105092\n",
            "min           0.000000\n",
            "25%           5.650000\n",
            "50%          22.000000\n",
            "75%          77.050000\n",
            "max       25691.160000\n",
            "Name: Amount, dtype: float64\n",
            "\n",
            "count     492.000000\n",
            "mean      122.211321\n",
            "std       256.683288\n",
            "min         0.000000\n",
            "25%         1.000000\n",
            "50%         9.250000\n",
            "75%       105.890000\n",
            "max      2125.870000\n",
            "Name: Amount, dtype: float64\n"
          ]
        }
      ],
      "source": [
        "# Statistical measures of the data\n",
        "print(legit.Amount.describe())\n",
        "print()\n",
        "print(fraud.Amount.describe())"
      ]
    },
    {
      "cell_type": "code",
      "execution_count": null,
      "metadata": {
        "colab": {
          "base_uri": "https://localhost:8080/"
        },
        "id": "jCYRzzymQxIQ",
        "outputId": "d8ef45e4-48e0-41c9-bc5d-3eeb9576d51d"
      },
      "outputs": [
        {
          "output_type": "stream",
          "name": "stdout",
          "text": [
            "               Time        V1        V2        V3        V4        V5  \\\n",
            "Class                                                                   \n",
            "0      94838.202258  0.008258 -0.006271  0.012171 -0.007860  0.005453   \n",
            "1      80746.806911 -4.771948  3.623778 -7.033281  4.542029 -3.151225   \n",
            "\n",
            "             V6        V7        V8        V9  ...       V20       V21  \\\n",
            "Class                                          ...                       \n",
            "0      0.002419  0.009637 -0.000987  0.004467  ... -0.000644 -0.001235   \n",
            "1     -1.397737 -5.568731  0.570636 -2.581123  ...  0.372319  0.713588   \n",
            "\n",
            "            V22       V23       V24       V25       V26       V27       V28  \\\n",
            "Class                                                                         \n",
            "0     -0.000024  0.000070  0.000182 -0.000072 -0.000089 -0.000295 -0.000131   \n",
            "1      0.014049 -0.040308 -0.105130  0.041449  0.051648  0.170575  0.075667   \n",
            "\n",
            "           Amount  \n",
            "Class              \n",
            "0       88.291022  \n",
            "1      122.211321  \n",
            "\n",
            "[2 rows x 30 columns]\n"
          ]
        }
      ],
      "source": [
        "# Compare the values for both transactions\n",
        "print(credit_card_data.groupby('Class').mean())"
      ]
    },
    {
      "cell_type": "code",
      "execution_count": null,
      "metadata": {
        "id": "_dK4qo3FQzRg"
      },
      "outputs": [],
      "source": [
        "# Sample from legitimate transactions to balance the dataset\n",
        "legit_sample = legit.sample(n=492)\n",
        "new_dataset = pd.concat([legit_sample, fraud], axis=0)"
      ]
    },
    {
      "cell_type": "code",
      "execution_count": null,
      "metadata": {
        "colab": {
          "base_uri": "https://localhost:8080/"
        },
        "id": "YT2sTiMEQ1ln",
        "outputId": "2a8bbfa4-1c2c-430e-e1ef-c938dc9429a7"
      },
      "outputs": [
        {
          "output_type": "stream",
          "name": "stdout",
          "text": [
            "            Time        V1        V2        V3        V4        V5        V6  \\\n",
            "42762    41234.0 -1.043870  0.429934  0.565503 -1.315107  0.239131 -0.786575   \n",
            "86161    61111.0  1.194500  0.154701  0.604205  0.561456 -0.571931 -0.795792   \n",
            "232711  147276.0 -0.636883  0.100494 -0.177316 -1.774217  1.091764 -1.152196   \n",
            "38117    39255.0  0.864966 -0.404933  1.427380  1.396475 -1.198917  0.029665   \n",
            "228683  145608.0  1.798211 -0.621725  0.012803  0.563481 -1.100668 -0.575012   \n",
            "\n",
            "              V7        V8        V9  ...       V21       V22       V23  \\\n",
            "42762   0.039376  0.545099 -0.351615  ...  0.019166 -0.249468 -0.084042   \n",
            "86161  -0.065738 -0.043684 -0.151826  ... -0.195633 -0.638351  0.151725   \n",
            "232711  1.185620 -0.334549 -2.342687  ...  0.556473  1.356329 -0.729320   \n",
            "38117  -0.648851  0.186867  0.607896  ...  0.372077  0.897299 -0.101306   \n",
            "228683 -0.635014  0.007139  0.884637  ...  0.289605  0.920677  0.167242   \n",
            "\n",
            "             V24       V25       V26       V27       V28  Amount  Class  \n",
            "42762  -0.312683 -0.137778  0.789876  0.058383 -0.064172   14.60      0  \n",
            "86161   0.516587  0.141254  0.065729 -0.036739  0.010548    5.99      0  \n",
            "232711 -0.313103  1.497148  0.514178 -0.087356  0.005322   48.00      0  \n",
            "38117   0.412364  0.201628 -0.241333  0.069877  0.064007  125.97      0  \n",
            "228683  0.623859 -0.390218  0.506445 -0.029297 -0.040405   64.99      0  \n",
            "\n",
            "[5 rows x 31 columns]\n"
          ]
        }
      ],
      "source": [
        "# Display the first few rows of the new dataset\n",
        "print(new_dataset.head())"
      ]
    },
    {
      "cell_type": "code",
      "execution_count": null,
      "metadata": {
        "colab": {
          "base_uri": "https://localhost:8080/"
        },
        "id": "RooSqSCyRjP9",
        "outputId": "3a8cb1db-4916-4f61-9a9b-87d3512ec825"
      },
      "outputs": [
        {
          "output_type": "execute_result",
          "data": {
            "text/plain": [
              "Class\n",
              "0    492\n",
              "1    492\n",
              "Name: count, dtype: int64"
            ]
          },
          "metadata": {},
          "execution_count": 11
        }
      ],
      "source": [
        "new_dataset['Class'].value_counts()"
      ]
    },
    {
      "cell_type": "code",
      "execution_count": null,
      "metadata": {
        "colab": {
          "base_uri": "https://localhost:8080/",
          "height": 193
        },
        "id": "sdqE89HGSjHr",
        "outputId": "461fc638-4363-44cc-a3ab-bd7faf3b6193"
      },
      "outputs": [
        {
          "output_type": "execute_result",
          "data": {
            "text/plain": [
              "               Time        V1        V2        V3        V4        V5  \\\n",
              "Class                                                                   \n",
              "0      93991.231707  0.113538  0.005392  0.051044 -0.040599  0.007261   \n",
              "1      80746.806911 -4.771948  3.623778 -7.033281  4.542029 -3.151225   \n",
              "\n",
              "             V6        V7        V8        V9  ...       V20       V21  \\\n",
              "Class                                          ...                       \n",
              "0      0.009793  0.029121 -0.026075  0.022737  ...  0.042554  0.017201   \n",
              "1     -1.397737 -5.568731  0.570636 -2.581123  ...  0.372319  0.713588   \n",
              "\n",
              "            V22       V23       V24       V25       V26       V27       V28  \\\n",
              "Class                                                                         \n",
              "0      0.015520 -0.042098  0.028944  0.009196  0.029784  0.018497 -0.003442   \n",
              "1      0.014049 -0.040308 -0.105130  0.041449  0.051648  0.170575  0.075667   \n",
              "\n",
              "           Amount  \n",
              "Class              \n",
              "0       93.261220  \n",
              "1      122.211321  \n",
              "\n",
              "[2 rows x 30 columns]"
            ],
            "text/html": [
              "\n",
              "  <div id=\"df-18f6dfa6-e2a1-44e0-8c99-50cd99bb1b79\" class=\"colab-df-container\">\n",
              "    <div>\n",
              "<style scoped>\n",
              "    .dataframe tbody tr th:only-of-type {\n",
              "        vertical-align: middle;\n",
              "    }\n",
              "\n",
              "    .dataframe tbody tr th {\n",
              "        vertical-align: top;\n",
              "    }\n",
              "\n",
              "    .dataframe thead th {\n",
              "        text-align: right;\n",
              "    }\n",
              "</style>\n",
              "<table border=\"1\" class=\"dataframe\">\n",
              "  <thead>\n",
              "    <tr style=\"text-align: right;\">\n",
              "      <th></th>\n",
              "      <th>Time</th>\n",
              "      <th>V1</th>\n",
              "      <th>V2</th>\n",
              "      <th>V3</th>\n",
              "      <th>V4</th>\n",
              "      <th>V5</th>\n",
              "      <th>V6</th>\n",
              "      <th>V7</th>\n",
              "      <th>V8</th>\n",
              "      <th>V9</th>\n",
              "      <th>...</th>\n",
              "      <th>V20</th>\n",
              "      <th>V21</th>\n",
              "      <th>V22</th>\n",
              "      <th>V23</th>\n",
              "      <th>V24</th>\n",
              "      <th>V25</th>\n",
              "      <th>V26</th>\n",
              "      <th>V27</th>\n",
              "      <th>V28</th>\n",
              "      <th>Amount</th>\n",
              "    </tr>\n",
              "    <tr>\n",
              "      <th>Class</th>\n",
              "      <th></th>\n",
              "      <th></th>\n",
              "      <th></th>\n",
              "      <th></th>\n",
              "      <th></th>\n",
              "      <th></th>\n",
              "      <th></th>\n",
              "      <th></th>\n",
              "      <th></th>\n",
              "      <th></th>\n",
              "      <th></th>\n",
              "      <th></th>\n",
              "      <th></th>\n",
              "      <th></th>\n",
              "      <th></th>\n",
              "      <th></th>\n",
              "      <th></th>\n",
              "      <th></th>\n",
              "      <th></th>\n",
              "      <th></th>\n",
              "      <th></th>\n",
              "    </tr>\n",
              "  </thead>\n",
              "  <tbody>\n",
              "    <tr>\n",
              "      <th>0</th>\n",
              "      <td>93991.231707</td>\n",
              "      <td>0.113538</td>\n",
              "      <td>0.005392</td>\n",
              "      <td>0.051044</td>\n",
              "      <td>-0.040599</td>\n",
              "      <td>0.007261</td>\n",
              "      <td>0.009793</td>\n",
              "      <td>0.029121</td>\n",
              "      <td>-0.026075</td>\n",
              "      <td>0.022737</td>\n",
              "      <td>...</td>\n",
              "      <td>0.042554</td>\n",
              "      <td>0.017201</td>\n",
              "      <td>0.015520</td>\n",
              "      <td>-0.042098</td>\n",
              "      <td>0.028944</td>\n",
              "      <td>0.009196</td>\n",
              "      <td>0.029784</td>\n",
              "      <td>0.018497</td>\n",
              "      <td>-0.003442</td>\n",
              "      <td>93.261220</td>\n",
              "    </tr>\n",
              "    <tr>\n",
              "      <th>1</th>\n",
              "      <td>80746.806911</td>\n",
              "      <td>-4.771948</td>\n",
              "      <td>3.623778</td>\n",
              "      <td>-7.033281</td>\n",
              "      <td>4.542029</td>\n",
              "      <td>-3.151225</td>\n",
              "      <td>-1.397737</td>\n",
              "      <td>-5.568731</td>\n",
              "      <td>0.570636</td>\n",
              "      <td>-2.581123</td>\n",
              "      <td>...</td>\n",
              "      <td>0.372319</td>\n",
              "      <td>0.713588</td>\n",
              "      <td>0.014049</td>\n",
              "      <td>-0.040308</td>\n",
              "      <td>-0.105130</td>\n",
              "      <td>0.041449</td>\n",
              "      <td>0.051648</td>\n",
              "      <td>0.170575</td>\n",
              "      <td>0.075667</td>\n",
              "      <td>122.211321</td>\n",
              "    </tr>\n",
              "  </tbody>\n",
              "</table>\n",
              "<p>2 rows × 30 columns</p>\n",
              "</div>\n",
              "    <div class=\"colab-df-buttons\">\n",
              "\n",
              "  <div class=\"colab-df-container\">\n",
              "    <button class=\"colab-df-convert\" onclick=\"convertToInteractive('df-18f6dfa6-e2a1-44e0-8c99-50cd99bb1b79')\"\n",
              "            title=\"Convert this dataframe to an interactive table.\"\n",
              "            style=\"display:none;\">\n",
              "\n",
              "  <svg xmlns=\"http://www.w3.org/2000/svg\" height=\"24px\" viewBox=\"0 -960 960 960\">\n",
              "    <path d=\"M120-120v-720h720v720H120Zm60-500h600v-160H180v160Zm220 220h160v-160H400v160Zm0 220h160v-160H400v160ZM180-400h160v-160H180v160Zm440 0h160v-160H620v160ZM180-180h160v-160H180v160Zm440 0h160v-160H620v160Z\"/>\n",
              "  </svg>\n",
              "    </button>\n",
              "\n",
              "  <style>\n",
              "    .colab-df-container {\n",
              "      display:flex;\n",
              "      gap: 12px;\n",
              "    }\n",
              "\n",
              "    .colab-df-convert {\n",
              "      background-color: #E8F0FE;\n",
              "      border: none;\n",
              "      border-radius: 50%;\n",
              "      cursor: pointer;\n",
              "      display: none;\n",
              "      fill: #1967D2;\n",
              "      height: 32px;\n",
              "      padding: 0 0 0 0;\n",
              "      width: 32px;\n",
              "    }\n",
              "\n",
              "    .colab-df-convert:hover {\n",
              "      background-color: #E2EBFA;\n",
              "      box-shadow: 0px 1px 2px rgba(60, 64, 67, 0.3), 0px 1px 3px 1px rgba(60, 64, 67, 0.15);\n",
              "      fill: #174EA6;\n",
              "    }\n",
              "\n",
              "    .colab-df-buttons div {\n",
              "      margin-bottom: 4px;\n",
              "    }\n",
              "\n",
              "    [theme=dark] .colab-df-convert {\n",
              "      background-color: #3B4455;\n",
              "      fill: #D2E3FC;\n",
              "    }\n",
              "\n",
              "    [theme=dark] .colab-df-convert:hover {\n",
              "      background-color: #434B5C;\n",
              "      box-shadow: 0px 1px 3px 1px rgba(0, 0, 0, 0.15);\n",
              "      filter: drop-shadow(0px 1px 2px rgba(0, 0, 0, 0.3));\n",
              "      fill: #FFFFFF;\n",
              "    }\n",
              "  </style>\n",
              "\n",
              "    <script>\n",
              "      const buttonEl =\n",
              "        document.querySelector('#df-18f6dfa6-e2a1-44e0-8c99-50cd99bb1b79 button.colab-df-convert');\n",
              "      buttonEl.style.display =\n",
              "        google.colab.kernel.accessAllowed ? 'block' : 'none';\n",
              "\n",
              "      async function convertToInteractive(key) {\n",
              "        const element = document.querySelector('#df-18f6dfa6-e2a1-44e0-8c99-50cd99bb1b79');\n",
              "        const dataTable =\n",
              "          await google.colab.kernel.invokeFunction('convertToInteractive',\n",
              "                                                    [key], {});\n",
              "        if (!dataTable) return;\n",
              "\n",
              "        const docLinkHtml = 'Like what you see? Visit the ' +\n",
              "          '<a target=\"_blank\" href=https://colab.research.google.com/notebooks/data_table.ipynb>data table notebook</a>'\n",
              "          + ' to learn more about interactive tables.';\n",
              "        element.innerHTML = '';\n",
              "        dataTable['output_type'] = 'display_data';\n",
              "        await google.colab.output.renderOutput(dataTable, element);\n",
              "        const docLink = document.createElement('div');\n",
              "        docLink.innerHTML = docLinkHtml;\n",
              "        element.appendChild(docLink);\n",
              "      }\n",
              "    </script>\n",
              "  </div>\n",
              "\n",
              "\n",
              "<div id=\"df-d6415183-212d-4dcb-aab9-63e6f5a98f2d\">\n",
              "  <button class=\"colab-df-quickchart\" onclick=\"quickchart('df-d6415183-212d-4dcb-aab9-63e6f5a98f2d')\"\n",
              "            title=\"Suggest charts\"\n",
              "            style=\"display:none;\">\n",
              "\n",
              "<svg xmlns=\"http://www.w3.org/2000/svg\" height=\"24px\"viewBox=\"0 0 24 24\"\n",
              "     width=\"24px\">\n",
              "    <g>\n",
              "        <path d=\"M19 3H5c-1.1 0-2 .9-2 2v14c0 1.1.9 2 2 2h14c1.1 0 2-.9 2-2V5c0-1.1-.9-2-2-2zM9 17H7v-7h2v7zm4 0h-2V7h2v10zm4 0h-2v-4h2v4z\"/>\n",
              "    </g>\n",
              "</svg>\n",
              "  </button>\n",
              "\n",
              "<style>\n",
              "  .colab-df-quickchart {\n",
              "      --bg-color: #E8F0FE;\n",
              "      --fill-color: #1967D2;\n",
              "      --hover-bg-color: #E2EBFA;\n",
              "      --hover-fill-color: #174EA6;\n",
              "      --disabled-fill-color: #AAA;\n",
              "      --disabled-bg-color: #DDD;\n",
              "  }\n",
              "\n",
              "  [theme=dark] .colab-df-quickchart {\n",
              "      --bg-color: #3B4455;\n",
              "      --fill-color: #D2E3FC;\n",
              "      --hover-bg-color: #434B5C;\n",
              "      --hover-fill-color: #FFFFFF;\n",
              "      --disabled-bg-color: #3B4455;\n",
              "      --disabled-fill-color: #666;\n",
              "  }\n",
              "\n",
              "  .colab-df-quickchart {\n",
              "    background-color: var(--bg-color);\n",
              "    border: none;\n",
              "    border-radius: 50%;\n",
              "    cursor: pointer;\n",
              "    display: none;\n",
              "    fill: var(--fill-color);\n",
              "    height: 32px;\n",
              "    padding: 0;\n",
              "    width: 32px;\n",
              "  }\n",
              "\n",
              "  .colab-df-quickchart:hover {\n",
              "    background-color: var(--hover-bg-color);\n",
              "    box-shadow: 0 1px 2px rgba(60, 64, 67, 0.3), 0 1px 3px 1px rgba(60, 64, 67, 0.15);\n",
              "    fill: var(--button-hover-fill-color);\n",
              "  }\n",
              "\n",
              "  .colab-df-quickchart-complete:disabled,\n",
              "  .colab-df-quickchart-complete:disabled:hover {\n",
              "    background-color: var(--disabled-bg-color);\n",
              "    fill: var(--disabled-fill-color);\n",
              "    box-shadow: none;\n",
              "  }\n",
              "\n",
              "  .colab-df-spinner {\n",
              "    border: 2px solid var(--fill-color);\n",
              "    border-color: transparent;\n",
              "    border-bottom-color: var(--fill-color);\n",
              "    animation:\n",
              "      spin 1s steps(1) infinite;\n",
              "  }\n",
              "\n",
              "  @keyframes spin {\n",
              "    0% {\n",
              "      border-color: transparent;\n",
              "      border-bottom-color: var(--fill-color);\n",
              "      border-left-color: var(--fill-color);\n",
              "    }\n",
              "    20% {\n",
              "      border-color: transparent;\n",
              "      border-left-color: var(--fill-color);\n",
              "      border-top-color: var(--fill-color);\n",
              "    }\n",
              "    30% {\n",
              "      border-color: transparent;\n",
              "      border-left-color: var(--fill-color);\n",
              "      border-top-color: var(--fill-color);\n",
              "      border-right-color: var(--fill-color);\n",
              "    }\n",
              "    40% {\n",
              "      border-color: transparent;\n",
              "      border-right-color: var(--fill-color);\n",
              "      border-top-color: var(--fill-color);\n",
              "    }\n",
              "    60% {\n",
              "      border-color: transparent;\n",
              "      border-right-color: var(--fill-color);\n",
              "    }\n",
              "    80% {\n",
              "      border-color: transparent;\n",
              "      border-right-color: var(--fill-color);\n",
              "      border-bottom-color: var(--fill-color);\n",
              "    }\n",
              "    90% {\n",
              "      border-color: transparent;\n",
              "      border-bottom-color: var(--fill-color);\n",
              "    }\n",
              "  }\n",
              "</style>\n",
              "\n",
              "  <script>\n",
              "    async function quickchart(key) {\n",
              "      const quickchartButtonEl =\n",
              "        document.querySelector('#' + key + ' button');\n",
              "      quickchartButtonEl.disabled = true;  // To prevent multiple clicks.\n",
              "      quickchartButtonEl.classList.add('colab-df-spinner');\n",
              "      try {\n",
              "        const charts = await google.colab.kernel.invokeFunction(\n",
              "            'suggestCharts', [key], {});\n",
              "      } catch (error) {\n",
              "        console.error('Error during call to suggestCharts:', error);\n",
              "      }\n",
              "      quickchartButtonEl.classList.remove('colab-df-spinner');\n",
              "      quickchartButtonEl.classList.add('colab-df-quickchart-complete');\n",
              "    }\n",
              "    (() => {\n",
              "      let quickchartButtonEl =\n",
              "        document.querySelector('#df-d6415183-212d-4dcb-aab9-63e6f5a98f2d button');\n",
              "      quickchartButtonEl.style.display =\n",
              "        google.colab.kernel.accessAllowed ? 'block' : 'none';\n",
              "    })();\n",
              "  </script>\n",
              "</div>\n",
              "\n",
              "    </div>\n",
              "  </div>\n"
            ],
            "application/vnd.google.colaboratory.intrinsic+json": {
              "type": "dataframe"
            }
          },
          "metadata": {},
          "execution_count": 12
        }
      ],
      "source": [
        "new_dataset.groupby('Class').mean()\n",
        "#Important step --> ensure that the nature of the dataset hasn't changed"
      ]
    },
    {
      "cell_type": "code",
      "execution_count": null,
      "metadata": {
        "id": "35E_kbdETJ30"
      },
      "outputs": [],
      "source": [
        "X = new_dataset.drop(columns='Class', axis = 1)\n",
        "Y = new_dataset['Class']"
      ]
    },
    {
      "cell_type": "code",
      "execution_count": null,
      "metadata": {
        "colab": {
          "base_uri": "https://localhost:8080/"
        },
        "id": "195ksnPrTP8W",
        "outputId": "2ac65884-833e-4be0-8761-78c7027e7cb1"
      },
      "outputs": [
        {
          "output_type": "stream",
          "name": "stdout",
          "text": [
            "(984, 30) (787, 30) (197, 30)\n"
          ]
        }
      ],
      "source": [
        "# Split the data into training and testing sets\n",
        "X_train, X_test, Y_train, Y_test = train_test_split(X, Y, test_size=0.2, stratify=Y, random_state=2)\n",
        "print(X.shape, X_train.shape, X_test.shape)"
      ]
    },
    {
      "cell_type": "markdown",
      "metadata": {
        "id": "lmP2EHI7Tgmy"
      },
      "source": [
        "**MODEL 1 - LOGISTIC REGRESSION**\n",
        "\n",
        "\n",
        "\n",
        "\n",
        "\n",
        "\n",
        "\n"
      ]
    },
    {
      "cell_type": "code",
      "execution_count": null,
      "metadata": {
        "colab": {
          "base_uri": "https://localhost:8080/"
        },
        "id": "LK6nP3akTn_5",
        "outputId": "58b4dcb5-5448-41e8-f9d3-bd77e911192c"
      },
      "outputs": [
        {
          "output_type": "stream",
          "name": "stdout",
          "text": [
            "Accuracy on Training data: 0.9453621346886912\n",
            "Precision: 0.9730458221024259\n",
            "Recall: 0.916243654822335\n",
            "F1 Score: 0.9437908496732027\n",
            "\n",
            "Accuracy on Test data: 0.9238578680203046\n",
            "Precision: 0.9560439560439561\n",
            "Recall: 0.8877551020408163\n",
            "F1 Score: 0.9206349206349207\n"
          ]
        }
      ],
      "source": [
        "# Initialize and train the Logistic Regression model\n",
        "model = LogisticRegression()\n",
        "model.fit(X_train, Y_train)\n",
        "\n",
        "# Make predictions on training data\n",
        "X_train_prediction = model.predict(X_train)\n",
        "training_data_accuracy = accuracy_score(X_train_prediction , Y_train)\n",
        "train_precision_lr = precision_score(Y_train, X_train_prediction)\n",
        "train_recall_lr = recall_score(Y_train, X_train_prediction)\n",
        "train_f1_lr = f1_score(Y_train, X_train_prediction)\n",
        "print('Accuracy on Training data:', training_data_accuracy)\n",
        "print('Precision:', train_precision_lr)\n",
        "print('Recall:', train_recall_lr)\n",
        "print('F1 Score:', train_f1_lr)\n",
        "\n",
        "print()\n",
        "\n",
        "# Make predictions on test data\n",
        "X_test_prediction = model.predict(X_test)\n",
        "test_data_accuracy = accuracy_score(X_test_prediction, Y_test)\n",
        "test_precision_lr = precision_score(Y_test, X_test_prediction)\n",
        "test_recall_lr = recall_score(Y_test, X_test_prediction)\n",
        "test_f1_lr = f1_score(Y_test, X_test_prediction)\n",
        "print('Accuracy on Test data:', test_data_accuracy)\n",
        "print('Precision:', test_precision_lr)\n",
        "print('Recall:', test_recall_lr)\n",
        "print('F1 Score:', test_f1_lr)\n"
      ]
    },
    {
      "cell_type": "markdown",
      "metadata": {
        "id": "dAgUiIkYX2cL"
      },
      "source": [
        "**MODEL 2 - RANDOM FOREST**\n"
      ]
    },
    {
      "cell_type": "code",
      "execution_count": null,
      "metadata": {
        "colab": {
          "base_uri": "https://localhost:8080/"
        },
        "id": "t85FRyHPX75o",
        "outputId": "a5dca9ef-8e25-44f0-92fd-2e5f9aaa1744"
      },
      "outputs": [
        {
          "output_type": "stream",
          "name": "stdout",
          "text": [
            "Random Forest Model Evaluation:\n",
            "Training Data:\n",
            "Accuracy: 1.0\n",
            "Precision: 1.0\n",
            "Recall: 1.0\n",
            "F1 Score: 1.0\n",
            "\n",
            "Test Data:\n",
            "Accuracy: 0.9238578680203046\n",
            "Precision: 0.9770114942528736\n",
            "Recall: 0.8673469387755102\n",
            "F1 Score: 0.9189189189189189\n"
          ]
        }
      ],
      "source": [
        "from sklearn.ensemble import RandomForestClassifier\n",
        "\n",
        "# Initialize and train the Random Forest model\n",
        "model = RandomForestClassifier(n_estimators=100, random_state=2)\n",
        "model.fit(X_train, Y_train)\n",
        "\n",
        "# Make predictions on training data\n",
        "train_predictions = model.predict(X_train)\n",
        "\n",
        "# Make predictions on test data\n",
        "test_predictions = model.predict(X_test)\n",
        "\n",
        "# Calculate evaluation metrics\n",
        "train_accuracy = accuracy_score(Y_train, train_predictions)\n",
        "train_precision = precision_score(Y_train, train_predictions)\n",
        "train_recall = recall_score(Y_train, train_predictions)\n",
        "train_f1 = f1_score(Y_train, train_predictions)\n",
        "\n",
        "test_accuracy = accuracy_score(Y_test, test_predictions)\n",
        "test_precision = precision_score(Y_test, test_predictions)\n",
        "test_recall = recall_score(Y_test, test_predictions)\n",
        "test_f1 = f1_score(Y_test, test_predictions)\n",
        "\n",
        "print('Random Forest Model Evaluation:')\n",
        "print('Training Data:')\n",
        "print('Accuracy:', train_accuracy)\n",
        "print('Precision:', train_precision)\n",
        "print('Recall:', train_recall)\n",
        "print('F1 Score:', train_f1)\n",
        "\n",
        "print('\\nTest Data:')\n",
        "print('Accuracy:', test_accuracy)\n",
        "print('Precision:', test_precision)\n",
        "print('Recall:', test_recall)\n",
        "print('F1 Score:', test_f1)"
      ]
    },
    {
      "cell_type": "markdown",
      "metadata": {
        "id": "idfZNEX3e3ga"
      },
      "source": [
        "**MODEL 3 - XGBOOST**\n"
      ]
    },
    {
      "cell_type": "code",
      "execution_count": null,
      "metadata": {
        "colab": {
          "base_uri": "https://localhost:8080/"
        },
        "id": "4d7J2Vv-fU9w",
        "outputId": "d0694cd4-99f4-468d-c124-0debd769e040"
      },
      "outputs": [
        {
          "output_type": "stream",
          "name": "stdout",
          "text": [
            "XGBoost Model Evaluation:\n",
            "Training Data:\n",
            "Accuracy: 0.9834815756035579\n",
            "Precision: 0.9948051948051948\n",
            "Recall: 0.9720812182741116\n",
            "F1 Score: 0.9833119383825416\n",
            "\n",
            "Test Data:\n",
            "Accuracy: 0.9289340101522843\n",
            "Precision: 0.9772727272727273\n",
            "Recall: 0.8775510204081632\n",
            "F1 Score: 0.9247311827956989\n"
          ]
        }
      ],
      "source": [
        "from sklearn.model_selection import train_test_split, GridSearchCV\n",
        "from xgboost import XGBClassifier\n",
        "# Initialize XGBoost classifier\n",
        "xgb = XGBClassifier(random_state=2)\n",
        "\n",
        "# Define hyperparameters grid for grid search\n",
        "#evaluate optimal parameters of the model\n",
        "param_grid = {\n",
        "    'n_estimators': [100, 200, 300],\n",
        "    'max_depth': [3, 5, 7],\n",
        "    'learning_rate': [0.01, 0.05, 0.1],\n",
        "    'subsample': [0.8, 1.0],\n",
        "    'colsample_bytree': [0.8, 1.0]\n",
        "}\n",
        "\n",
        "# Perform grid search with cross-validation\n",
        "grid_search = GridSearchCV(estimator=xgb, param_grid=param_grid, cv=3, scoring='accuracy')\n",
        "grid_search.fit(X_train, Y_train)\n",
        "\n",
        "# Get the best hyperparameters\n",
        "best_params = grid_search.best_params_\n",
        "\n",
        "# Initialize XGBoost classifier with best hyperparameters\n",
        "best_xgb = XGBClassifier(**best_params, random_state=2)\n",
        "\n",
        "# Train the XGBoost model\n",
        "best_xgb.fit(X_train, Y_train)\n",
        "\n",
        "# Make predictions on training data\n",
        "train_predictions = best_xgb.predict(X_train)\n",
        "\n",
        "# Make predictions on test data\n",
        "test_predictions = best_xgb.predict(X_test)\n",
        "\n",
        "# Calculate evaluation metrics\n",
        "train_accuracy = accuracy_score(Y_train, train_predictions)\n",
        "train_precision = precision_score(Y_train, train_predictions)\n",
        "train_recall = recall_score(Y_train, train_predictions)\n",
        "train_f1 = f1_score(Y_train, train_predictions)\n",
        "\n",
        "test_accuracy = accuracy_score(Y_test, test_predictions)\n",
        "test_precision = precision_score(Y_test, test_predictions)\n",
        "test_recall = recall_score(Y_test, test_predictions)\n",
        "test_f1 = f1_score(Y_test, test_predictions)\n",
        "\n",
        "print('XGBoost Model Evaluation:')\n",
        "print('Training Data:')\n",
        "print('Accuracy:', train_accuracy)\n",
        "print('Precision:', train_precision)\n",
        "print('Recall:', train_recall)\n",
        "print('F1 Score:', train_f1)\n",
        "\n",
        "print('\\nTest Data:')\n",
        "print('Accuracy:', test_accuracy)\n",
        "print('Precision:', test_precision)\n",
        "print('Recall:', test_recall)\n",
        "print('F1 Score:', test_f1)"
      ]
    },
    {
      "cell_type": "code",
      "source": [],
      "metadata": {
        "id": "ji8KGoE3ngRf"
      },
      "execution_count": null,
      "outputs": []
    },
    {
      "cell_type": "markdown",
      "source": [
        "**MODEL 4 - KNN**"
      ],
      "metadata": {
        "id": "RL0IVOPOlZt7"
      }
    },
    {
      "cell_type": "code",
      "execution_count": null,
      "metadata": {
        "colab": {
          "base_uri": "https://localhost:8080/"
        },
        "id": "S3L_AqIug7rp",
        "outputId": "79a73868-ba64-4ddf-e2c7-8589f751a2c9"
      },
      "outputs": [
        {
          "output_type": "stream",
          "name": "stdout",
          "text": [
            "K-Nearest Neighbors (KNN) Model Evaluation:\n",
            "Training Data:\n",
            "Accuracy: 0.7636594663278272\n",
            "Precision: 0.7971428571428572\n",
            "Recall: 0.7081218274111675\n",
            "F1 Score: 0.75\n",
            "\n",
            "Test Data:\n",
            "Accuracy: 0.6243654822335025\n",
            "Precision: 0.6333333333333333\n",
            "Recall: 0.5816326530612245\n",
            "F1 Score: 0.6063829787234042\n"
          ]
        }
      ],
      "source": [
        "from sklearn.neighbors import KNeighborsClassifier\n",
        "\n",
        "\n",
        "# Initialize the KNN classifier\n",
        "knn_model = KNeighborsClassifier(n_neighbors=5)  # You can experiment with different values of k\n",
        "\n",
        "# Train the KNN model\n",
        "knn_model.fit(X_train, Y_train)\n",
        "\n",
        "# Make predictions on training data\n",
        "train_predictions = knn_model.predict(X_train)\n",
        "\n",
        "# Make predictions on test data\n",
        "test_predictions = knn_model.predict(X_test)\n",
        "\n",
        "# Calculate evaluation metrics\n",
        "train_accuracy = accuracy_score(Y_train, train_predictions)\n",
        "train_precision = precision_score(Y_train, train_predictions)\n",
        "train_recall = recall_score(Y_train, train_predictions)\n",
        "train_f1 = f1_score(Y_train, train_predictions)\n",
        "\n",
        "test_accuracy = accuracy_score(Y_test, test_predictions)\n",
        "test_precision = precision_score(Y_test, test_predictions)\n",
        "test_recall = recall_score(Y_test, test_predictions)\n",
        "test_f1 = f1_score(Y_test, test_predictions)\n",
        "\n",
        "print('K-Nearest Neighbors (KNN) Model Evaluation:')\n",
        "print('Training Data:')\n",
        "print('Accuracy:', train_accuracy)\n",
        "print('Precision:', train_precision)\n",
        "print('Recall:', train_recall)\n",
        "print('F1 Score:', train_f1)\n",
        "\n",
        "print('\\nTest Data:')\n",
        "print('Accuracy:', test_accuracy)\n",
        "print('Precision:', test_precision)\n",
        "print('Recall:', test_recall)\n",
        "print('F1 Score:', test_f1)"
      ]
    }
  ],
  "metadata": {
    "colab": {
      "provenance": []
    },
    "kernelspec": {
      "display_name": "Python 3",
      "name": "python3"
    },
    "language_info": {
      "name": "python"
    }
  },
  "nbformat": 4,
  "nbformat_minor": 0
}